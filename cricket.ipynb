{
 "cells": [
  {
   "cell_type": "code",
   "execution_count": 1,
   "source": [
    "import requests as re\n",
    "import pandas as pd\n",
    "from bs4 import BeautifulSoup\n",
    "\n"
   ],
   "outputs": [],
   "metadata": {}
  },
  {
   "cell_type": "code",
   "execution_count": 2,
   "source": [
    "URL = \"https://cricketaddictor.com/asia-cup-2022/asia-cup-schedule-2022-live-points-table-match-final-today-match-list-live-score-live-streaming-and-live-telecast-details-in-india/\"\n",
    "\n",
    "page= re.get(URL)"
   ],
   "outputs": [],
   "metadata": {}
  },
  {
   "cell_type": "code",
   "execution_count": 3,
   "source": [
    "!pip install lxml"
   ],
   "outputs": [
    {
     "output_type": "stream",
     "name": "stdout",
     "text": [
      "Requirement already satisfied: lxml in /Library/Frameworks/Python.framework/Versions/3.9/lib/python3.9/site-packages (4.9.1)\n",
      "\u001b[33mWARNING: You are using pip version 21.3.1; however, version 22.2.2 is available.\n",
      "You should consider upgrading via the '/Library/Frameworks/Python.framework/Versions/3.9/bin/python3 -m pip install --upgrade pip' command.\u001b[0m\n"
     ]
    }
   ],
   "metadata": {}
  },
  {
   "cell_type": "code",
   "execution_count": 4,
   "source": [
    "tables = pd.read_html(page.content)"
   ],
   "outputs": [],
   "metadata": {}
  },
  {
   "cell_type": "markdown",
   "source": [
    "# Teams in Asia Cups"
   ],
   "metadata": {}
  },
  {
   "cell_type": "code",
   "execution_count": 6,
   "source": [
    "print(tables[-1])"
   ],
   "outputs": [
    {
     "output_type": "stream",
     "name": "stdout",
     "text": [
      "           0            1\n",
      "0    Group A      Group B\n",
      "1        NaN          NaN\n",
      "2      India    Sri Lanka\n",
      "3   Pakistan  Afghanistan\n",
      "4  Hong Kong   Bangladesh\n"
     ]
    }
   ],
   "metadata": {}
  },
  {
   "cell_type": "code",
   "execution_count": 22,
   "source": [
    "teams = tables[-1].dropna()\n",
    "teams = teams.rename(columns={0:'Group A', 1:'Group B'})\n",
    "teams = teams.drop(0)\n",
    "teams = teams.reset_index()\n",
    "teams = teams.drop(\"index\", axis=1)"
   ],
   "outputs": [],
   "metadata": {}
  },
  {
   "cell_type": "code",
   "execution_count": 23,
   "source": [
    "teams.to_csv('cricket_teams.csv')"
   ],
   "outputs": [],
   "metadata": {}
  },
  {
   "cell_type": "markdown",
   "source": [
    "# Points Table"
   ],
   "metadata": {}
  },
  {
   "cell_type": "code",
   "execution_count": 28,
   "source": [
    "pt = tables[1]\n",
    "pt = pt.rename(columns={0:'Name', 1:'Played', 2:'Won', 3:'Lost', 4:'Draw', 5:'NRR'})\n",
    "pt = pt.drop(0)\n",
    "pt = pt.reset_index()\n",
    "pt = pt.drop(\"index\", axis=1)"
   ],
   "outputs": [],
   "metadata": {}
  },
  {
   "cell_type": "code",
   "execution_count": 30,
   "source": [
    "pt.to_csv('cricket_points.csv')"
   ],
   "outputs": [],
   "metadata": {}
  },
  {
   "cell_type": "markdown",
   "source": [
    "# Match Details\n"
   ],
   "metadata": {}
  },
  {
   "cell_type": "code",
   "execution_count": 36,
   "source": [
    "md = tables[0]\n",
    "md = md.dropna()\n",
    "md = md.rename(columns={0:'Date', 1:'Match Details', 2:'Venue', 3:'Time(IST)'})\n",
    "md = md.drop(0)\n",
    "md = md.reset_index()\n",
    "md = md.drop(\"index\", axis=1)\n"
   ],
   "outputs": [],
   "metadata": {}
  },
  {
   "cell_type": "code",
   "execution_count": 38,
   "source": [
    "md.to_csv('cricket_match_details.csv')"
   ],
   "outputs": [],
   "metadata": {}
  },
  {
   "cell_type": "markdown",
   "source": [
    "# Most Runs"
   ],
   "metadata": {}
  },
  {
   "cell_type": "code",
   "execution_count": 68,
   "source": [
    "URL_1 = \"https://en.wikipedia.org/wiki/2022_Asia_Cup\"\n",
    "\n",
    "wiki = re.get(URL_1)"
   ],
   "outputs": [],
   "metadata": {}
  },
  {
   "cell_type": "code",
   "execution_count": 69,
   "source": [
    "wiki_tables = pd.read_html(wiki.content)"
   ],
   "outputs": [],
   "metadata": {}
  },
  {
   "cell_type": "code",
   "execution_count": 92,
   "source": [
    "mr = wiki_tables[-5]\n",
    "mr = mr.drop(5)\n",
    "mr = mr.drop(\"Unnamed: 5\", axis=1)"
   ],
   "outputs": [],
   "metadata": {}
  },
  {
   "cell_type": "code",
   "execution_count": 94,
   "source": [
    "mr.to_csv('cricket_most_runs.csv')"
   ],
   "outputs": [],
   "metadata": {}
  },
  {
   "cell_type": "markdown",
   "source": [
    "# Most Wickets"
   ],
   "metadata": {}
  },
  {
   "cell_type": "code",
   "execution_count": 97,
   "source": [
    "mw = wiki_tables[-4]\n",
    "mw = mw.drop(9)\n",
    "mw = mw.drop(\"Unnamed: 5\", axis=1)"
   ],
   "outputs": [],
   "metadata": {}
  },
  {
   "cell_type": "code",
   "execution_count": 99,
   "source": [
    "mw.to_csv(\"cricket_most_wickets.csv\")"
   ],
   "outputs": [],
   "metadata": {}
  },
  {
   "cell_type": "markdown",
   "source": [
    "# Team Players"
   ],
   "metadata": {}
  },
  {
   "cell_type": "code",
   "execution_count": 100,
   "source": [
    "URL_2 = \"https://www.timesofsports.com/cricket/asia-cup/2022-squad-with-stand-by-players-list/\"\n",
    "\n",
    "players_page = re.get(URL_2)"
   ],
   "outputs": [],
   "metadata": {}
  },
  {
   "cell_type": "code",
   "execution_count": 101,
   "source": [
    "players_tables = pd.read_html(players_page.content)"
   ],
   "outputs": [],
   "metadata": {}
  },
  {
   "cell_type": "code",
   "execution_count": 108,
   "source": [
    "def clean(table):\n",
    "    table = table.drop(0)\n",
    "    table = table.rename(columns={0:\"Players\", 1:\"Role\"})\n",
    "    table = table.reset_index()\n",
    "    table = table.drop(\"index\", axis=1)\n",
    "    return table\n"
   ],
   "outputs": [],
   "metadata": {}
  },
  {
   "cell_type": "code",
   "execution_count": 112,
   "source": [
    "pakistan = clean(players_tables[0])\n",
    "india = clean(players_tables[1])\n",
    "sri_lanka = clean(players_tables[2])\n",
    "afghanistan = clean(players_tables[3])\n",
    "bangladesh = clean(players_tables[4])\n",
    "hong_kong = clean(players_tables[5])"
   ],
   "outputs": [],
   "metadata": {}
  },
  {
   "cell_type": "code",
   "execution_count": 113,
   "source": [
    "pakistan.to_csv(\"cricket_pakistan_players.csv\")\n",
    "india.to_csv(\"cricket_india_players.csv\")\n",
    "sri_lanka.to_csv(\"cricket_sri_lanka_players.csv\")\n",
    "afghanistan.to_csv(\"cricket_afghanistan_players.csv\")\n",
    "bangladesh.to_csv(\"cricket_bangladesh_players.csv\")\n",
    "hong_kong.to_csv(\"cricket_hong_kong_players.csv\")"
   ],
   "outputs": [],
   "metadata": {}
  }
 ],
 "metadata": {
  "orig_nbformat": 4,
  "language_info": {
   "name": "python",
   "version": "3.9.7",
   "mimetype": "text/x-python",
   "codemirror_mode": {
    "name": "ipython",
    "version": 3
   },
   "pygments_lexer": "ipython3",
   "nbconvert_exporter": "python",
   "file_extension": ".py"
  },
  "kernelspec": {
   "name": "python3",
   "display_name": "Python 3.9.7 64-bit"
  },
  "interpreter": {
   "hash": "aee8b7b246df8f9039afb4144a1f6fd8d2ca17a180786b69acc140d282b71a49"
  }
 },
 "nbformat": 4,
 "nbformat_minor": 2
}